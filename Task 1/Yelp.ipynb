{
 "cells": [
  {
   "cell_type": "code",
   "execution_count": 1,
   "metadata": {
    "collapsed": false
   },
   "outputs": [],
   "source": [
    "import re\n",
    "import warnings\n",
    "import pandas as pd\n",
    "from bs4 import BeautifulSoup\n",
    "import mongo\n",
    "warnings.filterwarnings(\"ignore\")"
   ]
  },
  {
   "cell_type": "code",
   "execution_count": 2,
   "metadata": {
    "collapsed": true
   },
   "outputs": [],
   "source": [
    "from pymongo import MongoClient\n",
    "\n",
    "client = MongoClient()\n",
    "\n",
    "\n",
    "db = client['Yelp']\n",
    "mongo_review = db['review'].find({})\n",
    "mongo_tip = db['tip'].find({})\n",
    "mongo_business = db['business'].find({})\n",
    "mongo_user = db['user'].find({})"
   ]
  },
  {
   "cell_type": "code",
   "execution_count": 3,
   "metadata": {
    "collapsed": false
   },
   "outputs": [
    {
     "data": {
      "text/html": [
       "<div>\n",
       "<table border=\"1\" class=\"dataframe\">\n",
       "  <thead>\n",
       "    <tr style=\"text-align: right;\">\n",
       "      <th></th>\n",
       "      <th>business_id</th>\n",
       "      <th>categories</th>\n",
       "    </tr>\n",
       "  </thead>\n",
       "  <tbody>\n",
       "    <tr>\n",
       "      <th>0</th>\n",
       "      <td>5UmKMjUEUNdYWqANhGckJw</td>\n",
       "      <td>[Fast Food, Restaurants]</td>\n",
       "    </tr>\n",
       "    <tr>\n",
       "      <th>1</th>\n",
       "      <td>UsFtqoBl7naz8AVUBZMjQQ</td>\n",
       "      <td>[Nightlife]</td>\n",
       "    </tr>\n",
       "    <tr>\n",
       "      <th>2</th>\n",
       "      <td>cE27W9VPgO88Qxe4ol6y_g</td>\n",
       "      <td>[Active Life, Mini Golf, Golf]</td>\n",
       "    </tr>\n",
       "    <tr>\n",
       "      <th>3</th>\n",
       "      <td>mVHrayjG3uZ_RLHkLj-AMg</td>\n",
       "      <td>[Bars, American (New), Nightlife, Lounges, Res...</td>\n",
       "    </tr>\n",
       "    <tr>\n",
       "      <th>4</th>\n",
       "      <td>mYSpR_SLPgUVymYOvTQd_Q</td>\n",
       "      <td>[Active Life, Golf]</td>\n",
       "    </tr>\n",
       "  </tbody>\n",
       "</table>\n",
       "</div>"
      ],
      "text/plain": [
       "              business_id                                         categories\n",
       "0  5UmKMjUEUNdYWqANhGckJw                           [Fast Food, Restaurants]\n",
       "1  UsFtqoBl7naz8AVUBZMjQQ                                        [Nightlife]\n",
       "2  cE27W9VPgO88Qxe4ol6y_g                     [Active Life, Mini Golf, Golf]\n",
       "3  mVHrayjG3uZ_RLHkLj-AMg  [Bars, American (New), Nightlife, Lounges, Res...\n",
       "4  mYSpR_SLPgUVymYOvTQd_Q                                [Active Life, Golf]"
      ]
     },
     "execution_count": 3,
     "metadata": {},
     "output_type": "execute_result"
    }
   ],
   "source": [
    "business =  pd.DataFrame(list(mongo_business))\n",
    "business = business[['business_id','categories']]\n",
    "business.head()"
   ]
  },
  {
   "cell_type": "code",
   "execution_count": 4,
   "metadata": {
    "collapsed": false
   },
   "outputs": [],
   "source": [
    "categories_df = business['categories'].str.join(sep=',').str.get_dummies(sep=',')\n",
    "categories = categories_df.columns.values\n",
    "business = pd.merge(business, categories_df, left_index = True, right_index = True)\n",
    "business['categories'] = business['categories'].apply(lambda x: tuple(x))\n"
   ]
  },
  {
   "cell_type": "code",
   "execution_count": 5,
   "metadata": {
    "collapsed": false
   },
   "outputs": [],
   "source": [
    "cat = {}\n",
    "for index, row in business.iterrows():\n",
    "    for item in row['categories']:\n",
    "        if item in cat:\n",
    "            cat[item]+=1\n",
    "        else:\n",
    "            cat[item]=1\n",
    "        "
   ]
  },
  {
   "cell_type": "code",
   "execution_count": 36,
   "metadata": {
    "collapsed": false
   },
   "outputs": [],
   "source": [
    "import operator\n",
    "a = sorted(cat.items(), key=operator.itemgetter(1) ,reverse = True)"
   ]
  },
  {
   "cell_type": "code",
   "execution_count": 37,
   "metadata": {
    "collapsed": false
   },
   "outputs": [
    {
     "data": {
      "text/plain": [
       "[('Restaurants', 26729),\n",
       " ('Shopping', 12444),\n",
       " ('Food', 10143),\n",
       " ('Beauty & Spas', 7490),\n",
       " ('Health & Medical', 6106),\n",
       " ('Home Services', 5866),\n",
       " ('Nightlife', 5507),\n",
       " ('Automotive', 4888),\n",
       " ('Bars', 4727),\n",
       " ('Local Services', 4041)]"
      ]
     },
     "execution_count": 37,
     "metadata": {},
     "output_type": "execute_result"
    }
   ],
   "source": [
    "b = a[:10]\n",
    "b"
   ]
  },
  {
   "cell_type": "code",
   "execution_count": 38,
   "metadata": {
    "collapsed": true
   },
   "outputs": [],
   "source": [
    "mongo_user = db['user'].find({})"
   ]
  },
  {
   "cell_type": "code",
   "execution_count": 39,
   "metadata": {
    "collapsed": true
   },
   "outputs": [],
   "source": [
    "user =  pd.DataFrame(list(mongo_user))"
   ]
  },
  {
   "cell_type": "code",
   "execution_count": 41,
   "metadata": {
    "collapsed": false
   },
   "outputs": [],
   "source": [
    "user.to_pickle('user.pkl')"
   ]
  },
  {
   "cell_type": "code",
   "execution_count": null,
   "metadata": {
    "collapsed": true
   },
   "outputs": [],
   "source": []
  },
  {
   "cell_type": "code",
   "execution_count": null,
   "metadata": {
    "collapsed": true
   },
   "outputs": [],
   "source": []
  },
  {
   "cell_type": "code",
   "execution_count": null,
   "metadata": {
    "collapsed": true
   },
   "outputs": [],
   "source": []
  },
  {
   "cell_type": "code",
   "execution_count": null,
   "metadata": {
    "collapsed": true
   },
   "outputs": [],
   "source": [
    "reviewData =  pd.DataFrame(list(mongo.mongo_review))\n",
    "reviewData = reviewData[['business_id','text']]\n",
    "reviewData.columns = ['business_id','review']"
   ]
  },
  {
   "cell_type": "code",
   "execution_count": null,
   "metadata": {
    "collapsed": true
   },
   "outputs": [],
   "source": [
    "for item in business['categories']"
   ]
  },
  {
   "cell_type": "code",
   "execution_count": null,
   "metadata": {
    "collapsed": true
   },
   "outputs": [],
   "source": []
  },
  {
   "cell_type": "code",
   "execution_count": 2,
   "metadata": {
    "collapsed": false
   },
   "outputs": [
    {
     "data": {
      "text/html": [
       "<div>\n",
       "<table border=\"1\" class=\"dataframe\">\n",
       "  <thead>\n",
       "    <tr style=\"text-align: right;\">\n",
       "      <th></th>\n",
       "      <th>business_id</th>\n",
       "      <th>tip</th>\n",
       "      <th>categories</th>\n",
       "    </tr>\n",
       "  </thead>\n",
       "  <tbody>\n",
       "    <tr>\n",
       "      <th>0</th>\n",
       "      <td>5UmKMjUEUNdYWqANhGckJw</td>\n",
       "      <td>pizza is garbage hoagies are excellent</td>\n",
       "      <td>[Fast Food, Restaurants]</td>\n",
       "    </tr>\n",
       "    <tr>\n",
       "      <th>1</th>\n",
       "      <td>cE27W9VPgO88Qxe4ol6y_g</td>\n",
       "      <td>don t waste your time</td>\n",
       "      <td>[Active Life, Mini Golf, Golf]</td>\n",
       "    </tr>\n",
       "    <tr>\n",
       "      <th>2</th>\n",
       "      <td>mVHrayjG3uZ_RLHkLj-AMg</td>\n",
       "      <td>not easy to find be sure to put in directions ...</td>\n",
       "      <td>[Bars, American (New), Nightlife, Lounges, Res...</td>\n",
       "    </tr>\n",
       "    <tr>\n",
       "      <th>3</th>\n",
       "      <td>mVHrayjG3uZ_RLHkLj-AMg</td>\n",
       "      <td>your gps will not allow you to find this place...</td>\n",
       "      <td>[Bars, American (New), Nightlife, Lounges, Res...</td>\n",
       "    </tr>\n",
       "    <tr>\n",
       "      <th>4</th>\n",
       "      <td>KayYbHCt-RkbGcPdGOThNg</td>\n",
       "      <td>great drink specials</td>\n",
       "      <td>[Bars, American (Traditional), Nightlife, Rest...</td>\n",
       "    </tr>\n",
       "  </tbody>\n",
       "</table>\n",
       "</div>"
      ],
      "text/plain": [
       "              business_id                                                tip  \\\n",
       "0  5UmKMjUEUNdYWqANhGckJw             pizza is garbage hoagies are excellent   \n",
       "1  cE27W9VPgO88Qxe4ol6y_g                              don t waste your time   \n",
       "2  mVHrayjG3uZ_RLHkLj-AMg  not easy to find be sure to put in directions ...   \n",
       "3  mVHrayjG3uZ_RLHkLj-AMg  your gps will not allow you to find this place...   \n",
       "4  KayYbHCt-RkbGcPdGOThNg                               great drink specials   \n",
       "\n",
       "                                          categories  \n",
       "0                           [Fast Food, Restaurants]  \n",
       "1                     [Active Life, Mini Golf, Golf]  \n",
       "2  [Bars, American (New), Nightlife, Lounges, Res...  \n",
       "3  [Bars, American (New), Nightlife, Lounges, Res...  \n",
       "4  [Bars, American (Traditional), Nightlife, Rest...  "
      ]
     },
     "execution_count": 2,
     "metadata": {},
     "output_type": "execute_result"
    }
   ],
   "source": [
    "tip = pd.read_pickle('tip.pkl')\n",
    "tip.head()"
   ]
  },
  {
   "cell_type": "code",
   "execution_count": null,
   "metadata": {
    "collapsed": true
   },
   "outputs": [],
   "source": [
    "def replicateClasses(review):\n",
    "    cols = review.columns\n",
    "    categories = review[\"categories\"]    \n",
    "    data = pd.DataFrame(columns=cols)   \n",
    "    r_index = 0\n",
    "    count = 0\n",
    "    for i in range(len(categories)):\n",
    "        for item in categories[i]:\n",
    "            # print(item)\n",
    "            data.loc[len(data)-1] = [review[\"business_id\"][r_index], review[cols[1]][r_index], item]\n",
    "        r_index += 1\n",
    "        count += len(categories[i])\n",
    "    print(\"Total Categories:\\t\",count)\n",
    "    return (data)  "
   ]
  },
  {
   "cell_type": "code",
   "execution_count": null,
   "metadata": {
    "collapsed": true
   },
   "outputs": [],
   "source": [
    "tip = replicateClasses(tip)"
   ]
  },
  {
   "cell_type": "code",
   "execution_count": null,
   "metadata": {
    "collapsed": true
   },
   "outputs": [],
   "source": [
    "tip.head()"
   ]
  },
  {
   "cell_type": "code",
   "execution_count": null,
   "metadata": {
    "collapsed": true
   },
   "outputs": [],
   "source": []
  },
  {
   "cell_type": "code",
   "execution_count": 2,
   "metadata": {
    "collapsed": false
   },
   "outputs": [],
   "source": [
    "import pandas as pd\n",
    "from sklearn.model_selection import train_test_split\n",
    "from sklearn.feature_extraction.text import TfidfVectorizer\n",
    "from sklearn.ensemble import RandomForestClassifier\n",
    "from sklearn.metrics import accuracy_score\n",
    "import warnings\n",
    "\n",
    "warnings.filterwarnings(\"ignore\")"
   ]
  },
  {
   "cell_type": "code",
   "execution_count": 3,
   "metadata": {
    "collapsed": false
   },
   "outputs": [
    {
     "data": {
      "text/html": [
       "<div>\n",
       "<table border=\"1\" class=\"dataframe\">\n",
       "  <thead>\n",
       "    <tr style=\"text-align: right;\">\n",
       "      <th></th>\n",
       "      <th>business_id</th>\n",
       "      <th>review</th>\n",
       "      <th>categories</th>\n",
       "    </tr>\n",
       "  </thead>\n",
       "  <tbody>\n",
       "    <tr>\n",
       "      <th>0</th>\n",
       "      <td>5UmKMjUEUNdYWqANhGckJw</td>\n",
       "      <td>mr hoagie is an institution walking in it does...</td>\n",
       "      <td>[Fast Food, Restaurants]</td>\n",
       "    </tr>\n",
       "    <tr>\n",
       "      <th>1</th>\n",
       "      <td>5UmKMjUEUNdYWqANhGckJw</td>\n",
       "      <td>excellent food superb customer service i miss ...</td>\n",
       "      <td>[Fast Food, Restaurants]</td>\n",
       "    </tr>\n",
       "    <tr>\n",
       "      <th>2</th>\n",
       "      <td>5UmKMjUEUNdYWqANhGckJw</td>\n",
       "      <td>yes this place is a little out dated and not o...</td>\n",
       "      <td>[Fast Food, Restaurants]</td>\n",
       "    </tr>\n",
       "    <tr>\n",
       "      <th>3</th>\n",
       "      <td>5UmKMjUEUNdYWqANhGckJw</td>\n",
       "      <td>pros italian hoagie was delicious friendly cou...</td>\n",
       "      <td>[Fast Food, Restaurants]</td>\n",
       "    </tr>\n",
       "    <tr>\n",
       "      <th>4</th>\n",
       "      <td>5UmKMjUEUNdYWqANhGckJw</td>\n",
       "      <td>first the only reason this place could possibl...</td>\n",
       "      <td>[Fast Food, Restaurants]</td>\n",
       "    </tr>\n",
       "  </tbody>\n",
       "</table>\n",
       "</div>"
      ],
      "text/plain": [
       "              business_id                                             review  \\\n",
       "0  5UmKMjUEUNdYWqANhGckJw  mr hoagie is an institution walking in it does...   \n",
       "1  5UmKMjUEUNdYWqANhGckJw  excellent food superb customer service i miss ...   \n",
       "2  5UmKMjUEUNdYWqANhGckJw  yes this place is a little out dated and not o...   \n",
       "3  5UmKMjUEUNdYWqANhGckJw  pros italian hoagie was delicious friendly cou...   \n",
       "4  5UmKMjUEUNdYWqANhGckJw  first the only reason this place could possibl...   \n",
       "\n",
       "                 categories  \n",
       "0  [Fast Food, Restaurants]  \n",
       "1  [Fast Food, Restaurants]  \n",
       "2  [Fast Food, Restaurants]  \n",
       "3  [Fast Food, Restaurants]  \n",
       "4  [Fast Food, Restaurants]  "
      ]
     },
     "execution_count": 3,
     "metadata": {},
     "output_type": "execute_result"
    }
   ],
   "source": [
    "review_multi = pd.read_pickle('review.pkl')\n",
    "review_multi.head()"
   ]
  },
  {
   "cell_type": "code",
   "execution_count": 7,
   "metadata": {
    "collapsed": true
   },
   "outputs": [],
   "source": [
    "review_multi = review_multi[:8041]\n",
    "X_train, X_test, y_train, y_test = train_test_split(review_multi[\"review\"], review_multi[\"categories\"], test_size=0.20, random_state=4212)\n",
    "vectorizer = TfidfVectorizer() \n",
    "tfidfXtrain = vectorizer.fit_transform(X_train)\n",
    "tfidfXtest = vectorizer.transform(X_test)"
   ]
  },
  {
   "cell_type": "code",
   "execution_count": 5,
   "metadata": {
    "collapsed": false
   },
   "outputs": [],
   "source": [
    "from sklearn.multiclass import OneVsRestClassifier\n",
    "from sklearn.svm import LinearSVC\n",
    "from sklearn.preprocessing import MultiLabelBinarizer\n",
    "from sklearn.multioutput import MultiOutputRegressor\n",
    "from sklearn.ensemble import GradientBoostingRegressor\n",
    "\n",
    "#result = lb.inverse_transform(result)\n",
    "#output = pd.DataFrame( data={\"predicted\":result,\"actual\":y_test,'review':X_test} )\n",
    "#string = output.iloc[0]['review']\n",
    "#output.head()"
   ]
  },
  {
   "cell_type": "code",
   "execution_count": 6,
   "metadata": {
    "collapsed": false
   },
   "outputs": [],
   "source": [
    "lb = MultiLabelBinarizer()\n",
    "y_train = lb.fit_transform(y_train)\n",
    "y_test = lb.fit_transform(y_test)\n",
    "one = OneVsRestClassifier(LinearSVC())\n",
    "one = one.fit( tfidfXtrain, y_train )\n",
    "result = one.predict(tfidfXtest)"
   ]
  },
  {
   "cell_type": "code",
   "execution_count": 9,
   "metadata": {
    "collapsed": true
   },
   "outputs": [],
   "source": [
    "lb = MultiLabelBinarizer()\n",
    "y_train = lb.fit_transform(y_train)\n",
    "y_test = lb.fit_transform(y_test)"
   ]
  },
  {
   "cell_type": "code",
   "execution_count": 22,
   "metadata": {
    "collapsed": false
   },
   "outputs": [],
   "source": [
    "train = review_multi.iloc[:5000,1:2]\n",
    "labl = review_multi.iloc[:5000,2:3]\n",
    "vectorizer = TfidfVectorizer() \n",
    "tfidfXtrain = vectorizer.fit_transform(train)\n",
    "lb = MultiLabelBinarizer()\n",
    "y_test = lb.fit_transform(labl)"
   ]
  },
  {
   "cell_type": "code",
   "execution_count": 10,
   "metadata": {
    "collapsed": false
   },
   "outputs": [],
   "source": [
    "forest = RandomForestClassifier(max_features=200,n_estimators=100, n_jobs=4)\n",
    "forest = forest.fit( tfidfXtrain, y_train )\n",
    "result = forest.predict(tfidfXtest)"
   ]
  },
  {
   "cell_type": "code",
   "execution_count": 12,
   "metadata": {
    "collapsed": false
   },
   "outputs": [],
   "source": [
    "test = forest.predict_proba(tfidfXtest)"
   ]
  },
  {
   "cell_type": "code",
   "execution_count": 21,
   "metadata": {
    "collapsed": false
   },
   "outputs": [
    {
     "ename": "KeyError",
     "evalue": "0.0",
     "output_type": "error",
     "traceback": [
      "\u001b[0;31m---------------------------------------------------------------------------\u001b[0m",
      "\u001b[0;31mKeyError\u001b[0m                                  Traceback (most recent call last)",
      "\u001b[0;32m<ipython-input-21-f39f4a3c8676>\u001b[0m in \u001b[0;36m<module>\u001b[0;34m()\u001b[0m\n\u001b[1;32m      1\u001b[0m \u001b[1;31m#lb.inverse_transform(result)\u001b[0m\u001b[1;33m\u001b[0m\u001b[1;33m\u001b[0m\u001b[0m\n\u001b[0;32m----> 2\u001b[0;31m \u001b[0mlb\u001b[0m\u001b[1;33m.\u001b[0m\u001b[0mtransform\u001b[0m\u001b[1;33m(\u001b[0m\u001b[0mresult\u001b[0m\u001b[1;33m)\u001b[0m\u001b[1;33m\u001b[0m\u001b[0m\n\u001b[0m",
      "\u001b[0;32mC:\\Users\\Arihant\\Anaconda3\\lib\\site-packages\\sklearn\\preprocessing\\label.py\u001b[0m in \u001b[0;36mtransform\u001b[0;34m(self, y)\u001b[0m\n\u001b[1;32m    761\u001b[0m \u001b[1;33m\u001b[0m\u001b[0m\n\u001b[1;32m    762\u001b[0m         \u001b[0mclass_to_index\u001b[0m \u001b[1;33m=\u001b[0m \u001b[0mdict\u001b[0m\u001b[1;33m(\u001b[0m\u001b[0mzip\u001b[0m\u001b[1;33m(\u001b[0m\u001b[0mself\u001b[0m\u001b[1;33m.\u001b[0m\u001b[0mclasses_\u001b[0m\u001b[1;33m,\u001b[0m \u001b[0mrange\u001b[0m\u001b[1;33m(\u001b[0m\u001b[0mlen\u001b[0m\u001b[1;33m(\u001b[0m\u001b[0mself\u001b[0m\u001b[1;33m.\u001b[0m\u001b[0mclasses_\u001b[0m\u001b[1;33m)\u001b[0m\u001b[1;33m)\u001b[0m\u001b[1;33m)\u001b[0m\u001b[1;33m)\u001b[0m\u001b[1;33m\u001b[0m\u001b[0m\n\u001b[0;32m--> 763\u001b[0;31m         \u001b[0myt\u001b[0m \u001b[1;33m=\u001b[0m \u001b[0mself\u001b[0m\u001b[1;33m.\u001b[0m\u001b[0m_transform\u001b[0m\u001b[1;33m(\u001b[0m\u001b[0my\u001b[0m\u001b[1;33m,\u001b[0m \u001b[0mclass_to_index\u001b[0m\u001b[1;33m)\u001b[0m\u001b[1;33m\u001b[0m\u001b[0m\n\u001b[0m\u001b[1;32m    764\u001b[0m \u001b[1;33m\u001b[0m\u001b[0m\n\u001b[1;32m    765\u001b[0m         \u001b[1;32mif\u001b[0m \u001b[1;32mnot\u001b[0m \u001b[0mself\u001b[0m\u001b[1;33m.\u001b[0m\u001b[0msparse_output\u001b[0m\u001b[1;33m:\u001b[0m\u001b[1;33m\u001b[0m\u001b[0m\n",
      "\u001b[0;32mC:\\Users\\Arihant\\Anaconda3\\lib\\site-packages\\sklearn\\preprocessing\\label.py\u001b[0m in \u001b[0;36m_transform\u001b[0;34m(self, y, class_mapping)\u001b[0m\n\u001b[1;32m    785\u001b[0m         \u001b[0mindptr\u001b[0m \u001b[1;33m=\u001b[0m \u001b[0marray\u001b[0m\u001b[1;33m.\u001b[0m\u001b[0marray\u001b[0m\u001b[1;33m(\u001b[0m\u001b[1;34m'i'\u001b[0m\u001b[1;33m,\u001b[0m \u001b[1;33m[\u001b[0m\u001b[1;36m0\u001b[0m\u001b[1;33m]\u001b[0m\u001b[1;33m)\u001b[0m\u001b[1;33m\u001b[0m\u001b[0m\n\u001b[1;32m    786\u001b[0m         \u001b[1;32mfor\u001b[0m \u001b[0mlabels\u001b[0m \u001b[1;32min\u001b[0m \u001b[0my\u001b[0m\u001b[1;33m:\u001b[0m\u001b[1;33m\u001b[0m\u001b[0m\n\u001b[0;32m--> 787\u001b[0;31m             \u001b[0mindices\u001b[0m\u001b[1;33m.\u001b[0m\u001b[0mextend\u001b[0m\u001b[1;33m(\u001b[0m\u001b[0mset\u001b[0m\u001b[1;33m(\u001b[0m\u001b[0mclass_mapping\u001b[0m\u001b[1;33m[\u001b[0m\u001b[0mlabel\u001b[0m\u001b[1;33m]\u001b[0m \u001b[1;32mfor\u001b[0m \u001b[0mlabel\u001b[0m \u001b[1;32min\u001b[0m \u001b[0mlabels\u001b[0m\u001b[1;33m)\u001b[0m\u001b[1;33m)\u001b[0m\u001b[1;33m\u001b[0m\u001b[0m\n\u001b[0m\u001b[1;32m    788\u001b[0m             \u001b[0mindptr\u001b[0m\u001b[1;33m.\u001b[0m\u001b[0mappend\u001b[0m\u001b[1;33m(\u001b[0m\u001b[0mlen\u001b[0m\u001b[1;33m(\u001b[0m\u001b[0mindices\u001b[0m\u001b[1;33m)\u001b[0m\u001b[1;33m)\u001b[0m\u001b[1;33m\u001b[0m\u001b[0m\n\u001b[1;32m    789\u001b[0m         \u001b[0mdata\u001b[0m \u001b[1;33m=\u001b[0m \u001b[0mnp\u001b[0m\u001b[1;33m.\u001b[0m\u001b[0mones\u001b[0m\u001b[1;33m(\u001b[0m\u001b[0mlen\u001b[0m\u001b[1;33m(\u001b[0m\u001b[0mindices\u001b[0m\u001b[1;33m)\u001b[0m\u001b[1;33m,\u001b[0m \u001b[0mdtype\u001b[0m\u001b[1;33m=\u001b[0m\u001b[0mint\u001b[0m\u001b[1;33m)\u001b[0m\u001b[1;33m\u001b[0m\u001b[0m\n",
      "\u001b[0;32mC:\\Users\\Arihant\\Anaconda3\\lib\\site-packages\\sklearn\\preprocessing\\label.py\u001b[0m in \u001b[0;36m<genexpr>\u001b[0;34m(.0)\u001b[0m\n\u001b[1;32m    785\u001b[0m         \u001b[0mindptr\u001b[0m \u001b[1;33m=\u001b[0m \u001b[0marray\u001b[0m\u001b[1;33m.\u001b[0m\u001b[0marray\u001b[0m\u001b[1;33m(\u001b[0m\u001b[1;34m'i'\u001b[0m\u001b[1;33m,\u001b[0m \u001b[1;33m[\u001b[0m\u001b[1;36m0\u001b[0m\u001b[1;33m]\u001b[0m\u001b[1;33m)\u001b[0m\u001b[1;33m\u001b[0m\u001b[0m\n\u001b[1;32m    786\u001b[0m         \u001b[1;32mfor\u001b[0m \u001b[0mlabels\u001b[0m \u001b[1;32min\u001b[0m \u001b[0my\u001b[0m\u001b[1;33m:\u001b[0m\u001b[1;33m\u001b[0m\u001b[0m\n\u001b[0;32m--> 787\u001b[0;31m             \u001b[0mindices\u001b[0m\u001b[1;33m.\u001b[0m\u001b[0mextend\u001b[0m\u001b[1;33m(\u001b[0m\u001b[0mset\u001b[0m\u001b[1;33m(\u001b[0m\u001b[0mclass_mapping\u001b[0m\u001b[1;33m[\u001b[0m\u001b[0mlabel\u001b[0m\u001b[1;33m]\u001b[0m \u001b[1;32mfor\u001b[0m \u001b[0mlabel\u001b[0m \u001b[1;32min\u001b[0m \u001b[0mlabels\u001b[0m\u001b[1;33m)\u001b[0m\u001b[1;33m)\u001b[0m\u001b[1;33m\u001b[0m\u001b[0m\n\u001b[0m\u001b[1;32m    788\u001b[0m             \u001b[0mindptr\u001b[0m\u001b[1;33m.\u001b[0m\u001b[0mappend\u001b[0m\u001b[1;33m(\u001b[0m\u001b[0mlen\u001b[0m\u001b[1;33m(\u001b[0m\u001b[0mindices\u001b[0m\u001b[1;33m)\u001b[0m\u001b[1;33m)\u001b[0m\u001b[1;33m\u001b[0m\u001b[0m\n\u001b[1;32m    789\u001b[0m         \u001b[0mdata\u001b[0m \u001b[1;33m=\u001b[0m \u001b[0mnp\u001b[0m\u001b[1;33m.\u001b[0m\u001b[0mones\u001b[0m\u001b[1;33m(\u001b[0m\u001b[0mlen\u001b[0m\u001b[1;33m(\u001b[0m\u001b[0mindices\u001b[0m\u001b[1;33m)\u001b[0m\u001b[1;33m,\u001b[0m \u001b[0mdtype\u001b[0m\u001b[1;33m=\u001b[0m\u001b[0mint\u001b[0m\u001b[1;33m)\u001b[0m\u001b[1;33m\u001b[0m\u001b[0m\n",
      "\u001b[0;31mKeyError\u001b[0m: 0.0"
     ]
    }
   ],
   "source": [
    "#lb.inverse_transform(result)\n",
    "lb.transform(result)"
   ]
  },
  {
   "cell_type": "code",
   "execution_count": 8,
   "metadata": {
    "collapsed": false
   },
   "outputs": [
    {
     "data": {
      "text/plain": [
       "array([[-154.75474165, -147.03498585,  -50.03812219],\n",
       "       [   7.12165031,    5.12914884,  -81.46081961],\n",
       "       [-187.8948621 , -100.44373091,   13.88978285],\n",
       "       [-141.62745778,   95.02891072, -191.48204257],\n",
       "       [  97.03260883,  165.34867495,  139.52003279],\n",
       "       [ 123.92529176,   21.25719016,   -7.84253   ],\n",
       "       [-122.25193977,  -85.16443186, -107.12274212],\n",
       "       [ -30.170388  ,  -94.80956739,   12.16979946],\n",
       "       [ 140.72667194,  176.50941682,  -17.50447799],\n",
       "       [ 149.37967282,  -81.15699552,   -5.72850319]])"
      ]
     },
     "execution_count": 8,
     "metadata": {},
     "output_type": "execute_result"
    }
   ],
   "source": [
    "from sklearn.datasets import make_regression\n",
    "X, y = make_regression(n_samples=10, n_targets=3, random_state=1)\n",
    "MultiOutputRegressor(GradientBoostingRegressor(random_state=0)).fit(X, y).predict(X)"
   ]
  },
  {
   "cell_type": "code",
   "execution_count": 16,
   "metadata": {
    "collapsed": false
   },
   "outputs": [
    {
     "data": {
      "text/plain": [
       "array([[0, 0, 0, ..., 0, 0, 0],\n",
       "       [0, 0, 0, ..., 0, 0, 0],\n",
       "       [0, 0, 0, ..., 0, 0, 0],\n",
       "       ..., \n",
       "       [0, 0, 0, ..., 0, 0, 0],\n",
       "       [0, 0, 0, ..., 0, 1, 0],\n",
       "       [0, 0, 0, ..., 0, 0, 0]])"
      ]
     },
     "execution_count": 16,
     "metadata": {},
     "output_type": "execute_result"
    }
   ],
   "source": [
    "y_test."
   ]
  },
  {
   "cell_type": "code",
   "execution_count": null,
   "metadata": {
    "collapsed": false
   },
   "outputs": [],
   "source": [
    "review = pd.read_pickle('final.pkl')\n",
    "len(review)"
   ]
  },
  {
   "cell_type": "code",
   "execution_count": 3,
   "metadata": {
    "collapsed": true
   },
   "outputs": [],
   "source": [
    "review = review[:8041]\n",
    "X_train, X_test, y_train, y_test = train_test_split(review[\"review\"], review[\"categories\"], test_size=0.20, random_state=4212)\n",
    "vectorizer = TfidfVectorizer() \n",
    "tfidfXtrain = vectorizer.fit_transform(X_train)\n",
    "tfidfXtest = vectorizer.transform(X_test)"
   ]
  },
  {
   "cell_type": "code",
   "execution_count": 4,
   "metadata": {
    "collapsed": false
   },
   "outputs": [
    {
     "data": {
      "text/plain": [
       "8041"
      ]
     },
     "execution_count": 4,
     "metadata": {},
     "output_type": "execute_result"
    }
   ],
   "source": [
    "len(review)"
   ]
  },
  {
   "cell_type": "code",
   "execution_count": 5,
   "metadata": {
    "collapsed": false
   },
   "outputs": [],
   "source": [
    "forest = RandomForestClassifier(max_features=200,n_estimators=100, n_jobs=4)\n",
    "forest = forest.fit( tfidfXtrain, y_train )\n",
    "result = forest.predict(tfidfXtest)"
   ]
  },
  {
   "cell_type": "code",
   "execution_count": 6,
   "metadata": {
    "collapsed": true
   },
   "outputs": [],
   "source": [
    "# Reference: file:///C:/Users/Arihant/Downloads/Yelp_Advisor_Report.pdf"
   ]
  },
  {
   "cell_type": "code",
   "execution_count": 7,
   "metadata": {
    "collapsed": false
   },
   "outputs": [
    {
     "data": {
      "text/plain": [
       "1609"
      ]
     },
     "execution_count": 7,
     "metadata": {},
     "output_type": "execute_result"
    }
   ],
   "source": [
    "len(result)"
   ]
  },
  {
   "cell_type": "code",
   "execution_count": 8,
   "metadata": {
    "collapsed": false
   },
   "outputs": [
    {
     "data": {
      "text/plain": [
       "1609"
      ]
     },
     "execution_count": 8,
     "metadata": {},
     "output_type": "execute_result"
    }
   ],
   "source": [
    "len(y_test)"
   ]
  },
  {
   "cell_type": "code",
   "execution_count": 9,
   "metadata": {
    "collapsed": false
   },
   "outputs": [
    {
     "data": {
      "text/html": [
       "<div>\n",
       "<table border=\"1\" class=\"dataframe\">\n",
       "  <thead>\n",
       "    <tr style=\"text-align: right;\">\n",
       "      <th></th>\n",
       "      <th>actual</th>\n",
       "      <th>predicted</th>\n",
       "      <th>review</th>\n",
       "    </tr>\n",
       "  </thead>\n",
       "  <tbody>\n",
       "    <tr>\n",
       "      <th>116</th>\n",
       "      <td>Lounges</td>\n",
       "      <td>Bars</td>\n",
       "      <td>we have been coming here for over years consis...</td>\n",
       "    </tr>\n",
       "    <tr>\n",
       "      <th>2217</th>\n",
       "      <td>Nightlife</td>\n",
       "      <td>Arcades</td>\n",
       "      <td>pm on a friday afternoon and i got turned away...</td>\n",
       "    </tr>\n",
       "    <tr>\n",
       "      <th>5061</th>\n",
       "      <td>Restaurants</td>\n",
       "      <td>American (Traditional)</td>\n",
       "      <td>we were really looking forward to the acclaime...</td>\n",
       "    </tr>\n",
       "    <tr>\n",
       "      <th>7108</th>\n",
       "      <td>Cafes</td>\n",
       "      <td>Restaurants</td>\n",
       "      <td>finally a great neighborhood coffee shop that ...</td>\n",
       "    </tr>\n",
       "    <tr>\n",
       "      <th>4211</th>\n",
       "      <td>Gluten-Free</td>\n",
       "      <td>Restaurants</td>\n",
       "      <td>we hadn t been at pf changs for awhile and now...</td>\n",
       "    </tr>\n",
       "  </tbody>\n",
       "</table>\n",
       "</div>"
      ],
      "text/plain": [
       "           actual               predicted  \\\n",
       "116       Lounges                    Bars   \n",
       "2217    Nightlife                 Arcades   \n",
       "5061  Restaurants  American (Traditional)   \n",
       "7108        Cafes             Restaurants   \n",
       "4211  Gluten-Free             Restaurants   \n",
       "\n",
       "                                                 review  \n",
       "116   we have been coming here for over years consis...  \n",
       "2217  pm on a friday afternoon and i got turned away...  \n",
       "5061  we were really looking forward to the acclaime...  \n",
       "7108  finally a great neighborhood coffee shop that ...  \n",
       "4211  we hadn t been at pf changs for awhile and now...  "
      ]
     },
     "execution_count": 9,
     "metadata": {},
     "output_type": "execute_result"
    }
   ],
   "source": [
    "output = pd.DataFrame( data={\"predicted\":result,\"actual\":y_test,'review':X_test} )\n",
    "string = output.iloc[0]['review']\n",
    "output.head()"
   ]
  },
  {
   "cell_type": "code",
   "execution_count": 10,
   "metadata": {
    "collapsed": false
   },
   "outputs": [
    {
     "name": "stdout",
     "output_type": "stream",
     "text": [
      "accuracy_score:  0.0205096333126\n"
     ]
    }
   ],
   "source": [
    "print (\"accuracy_score: \", accuracy_score(y_test.values,result))"
   ]
  },
  {
   "cell_type": "code",
   "execution_count": 11,
   "metadata": {
    "collapsed": false
   },
   "outputs": [
    {
     "name": "stdout",
     "output_type": "stream",
     "text": [
      "Bars\n",
      "Bars\n"
     ]
    }
   ],
   "source": [
    "for index, row in output.iterrows():\n",
    "    if row['review'] in string:\n",
    "        print(row['predicted'])"
   ]
  },
  {
   "cell_type": "code",
   "execution_count": 12,
   "metadata": {
    "collapsed": false
   },
   "outputs": [
    {
     "name": "stdout",
     "output_type": "stream",
     "text": [
      "Bars\n",
      "American (New)\n",
      "Nightlife\n",
      "Lounges\n",
      "Restaurants\n"
     ]
    }
   ],
   "source": [
    "for index, row in review.iterrows():\n",
    "    if row['review'] in string:\n",
    "        print(row['categories'])"
   ]
  },
  {
   "cell_type": "code",
   "execution_count": null,
   "metadata": {
    "collapsed": true
   },
   "outputs": [],
   "source": []
  },
  {
   "cell_type": "code",
   "execution_count": null,
   "metadata": {
    "collapsed": true
   },
   "outputs": [],
   "source": []
  },
  {
   "cell_type": "code",
   "execution_count": null,
   "metadata": {
    "collapsed": true
   },
   "outputs": [],
   "source": []
  },
  {
   "cell_type": "code",
   "execution_count": 3,
   "metadata": {
    "collapsed": false
   },
   "outputs": [
    {
     "data": {
      "text/html": [
       "<div>\n",
       "<table border=\"1\" class=\"dataframe\">\n",
       "  <thead>\n",
       "    <tr style=\"text-align: right;\">\n",
       "      <th></th>\n",
       "      <th>business_id</th>\n",
       "      <th>review</th>\n",
       "      <th>categories</th>\n",
       "    </tr>\n",
       "  </thead>\n",
       "  <tbody>\n",
       "    <tr>\n",
       "      <th>-1</th>\n",
       "      <td>5UmKMjUEUNdYWqANhGckJw</td>\n",
       "      <td>mr hoagie is an institution walking in it does...</td>\n",
       "      <td>Fast Food</td>\n",
       "    </tr>\n",
       "    <tr>\n",
       "      <th>0</th>\n",
       "      <td>5UmKMjUEUNdYWqANhGckJw</td>\n",
       "      <td>mr hoagie is an institution walking in it does...</td>\n",
       "      <td>Restaurants</td>\n",
       "    </tr>\n",
       "    <tr>\n",
       "      <th>1</th>\n",
       "      <td>5UmKMjUEUNdYWqANhGckJw</td>\n",
       "      <td>excellent food superb customer service i miss ...</td>\n",
       "      <td>Fast Food</td>\n",
       "    </tr>\n",
       "    <tr>\n",
       "      <th>2</th>\n",
       "      <td>5UmKMjUEUNdYWqANhGckJw</td>\n",
       "      <td>excellent food superb customer service i miss ...</td>\n",
       "      <td>Restaurants</td>\n",
       "    </tr>\n",
       "    <tr>\n",
       "      <th>3</th>\n",
       "      <td>5UmKMjUEUNdYWqANhGckJw</td>\n",
       "      <td>yes this place is a little out dated and not o...</td>\n",
       "      <td>Fast Food</td>\n",
       "    </tr>\n",
       "    <tr>\n",
       "      <th>4</th>\n",
       "      <td>5UmKMjUEUNdYWqANhGckJw</td>\n",
       "      <td>yes this place is a little out dated and not o...</td>\n",
       "      <td>Restaurants</td>\n",
       "    </tr>\n",
       "    <tr>\n",
       "      <th>5</th>\n",
       "      <td>5UmKMjUEUNdYWqANhGckJw</td>\n",
       "      <td>pros italian hoagie was delicious friendly cou...</td>\n",
       "      <td>Fast Food</td>\n",
       "    </tr>\n",
       "    <tr>\n",
       "      <th>6</th>\n",
       "      <td>5UmKMjUEUNdYWqANhGckJw</td>\n",
       "      <td>pros italian hoagie was delicious friendly cou...</td>\n",
       "      <td>Restaurants</td>\n",
       "    </tr>\n",
       "    <tr>\n",
       "      <th>7</th>\n",
       "      <td>5UmKMjUEUNdYWqANhGckJw</td>\n",
       "      <td>first the only reason this place could possibl...</td>\n",
       "      <td>Fast Food</td>\n",
       "    </tr>\n",
       "    <tr>\n",
       "      <th>8</th>\n",
       "      <td>5UmKMjUEUNdYWqANhGckJw</td>\n",
       "      <td>first the only reason this place could possibl...</td>\n",
       "      <td>Restaurants</td>\n",
       "    </tr>\n",
       "    <tr>\n",
       "      <th>9</th>\n",
       "      <td>5UmKMjUEUNdYWqANhGckJw</td>\n",
       "      <td>normally i do not do reviews of an establishme...</td>\n",
       "      <td>Fast Food</td>\n",
       "    </tr>\n",
       "    <tr>\n",
       "      <th>10</th>\n",
       "      <td>5UmKMjUEUNdYWqANhGckJw</td>\n",
       "      <td>normally i do not do reviews of an establishme...</td>\n",
       "      <td>Restaurants</td>\n",
       "    </tr>\n",
       "    <tr>\n",
       "      <th>11</th>\n",
       "      <td>5UmKMjUEUNdYWqANhGckJw</td>\n",
       "      <td>i like this place a lot it s a good toasted ho...</td>\n",
       "      <td>Fast Food</td>\n",
       "    </tr>\n",
       "    <tr>\n",
       "      <th>12</th>\n",
       "      <td>5UmKMjUEUNdYWqANhGckJw</td>\n",
       "      <td>i like this place a lot it s a good toasted ho...</td>\n",
       "      <td>Restaurants</td>\n",
       "    </tr>\n",
       "    <tr>\n",
       "      <th>13</th>\n",
       "      <td>UsFtqoBl7naz8AVUBZMjQQ</td>\n",
       "      <td>all the food is great here but the best thing ...</td>\n",
       "      <td>Nightlife</td>\n",
       "    </tr>\n",
       "    <tr>\n",
       "      <th>14</th>\n",
       "      <td>UsFtqoBl7naz8AVUBZMjQQ</td>\n",
       "      <td>we checked this place out this past monday for...</td>\n",
       "      <td>Nightlife</td>\n",
       "    </tr>\n",
       "    <tr>\n",
       "      <th>15</th>\n",
       "      <td>UsFtqoBl7naz8AVUBZMjQQ</td>\n",
       "      <td>wing sauce is like water pretty much a lot of ...</td>\n",
       "      <td>Nightlife</td>\n",
       "    </tr>\n",
       "    <tr>\n",
       "      <th>16</th>\n",
       "      <td>UsFtqoBl7naz8AVUBZMjQQ</td>\n",
       "      <td>cold cheap beer good bar food good service loo...</td>\n",
       "      <td>Nightlife</td>\n",
       "    </tr>\n",
       "    <tr>\n",
       "      <th>17</th>\n",
       "      <td>UsFtqoBl7naz8AVUBZMjQQ</td>\n",
       "      <td>possibly the most overhyped establishment in a...</td>\n",
       "      <td>Nightlife</td>\n",
       "    </tr>\n",
       "    <tr>\n",
       "      <th>18</th>\n",
       "      <td>cE27W9VPgO88Qxe4ol6y_g</td>\n",
       "      <td>decent range somewhat close to the city the ma...</td>\n",
       "      <td>Active Life</td>\n",
       "    </tr>\n",
       "    <tr>\n",
       "      <th>19</th>\n",
       "      <td>cE27W9VPgO88Qxe4ol6y_g</td>\n",
       "      <td>decent range somewhat close to the city the ma...</td>\n",
       "      <td>Mini Golf</td>\n",
       "    </tr>\n",
       "    <tr>\n",
       "      <th>20</th>\n",
       "      <td>cE27W9VPgO88Qxe4ol6y_g</td>\n",
       "      <td>decent range somewhat close to the city the ma...</td>\n",
       "      <td>Golf</td>\n",
       "    </tr>\n",
       "    <tr>\n",
       "      <th>21</th>\n",
       "      <td>cE27W9VPgO88Qxe4ol6y_g</td>\n",
       "      <td>owning a driving range inside the city limits ...</td>\n",
       "      <td>Active Life</td>\n",
       "    </tr>\n",
       "    <tr>\n",
       "      <th>22</th>\n",
       "      <td>cE27W9VPgO88Qxe4ol6y_g</td>\n",
       "      <td>owning a driving range inside the city limits ...</td>\n",
       "      <td>Mini Golf</td>\n",
       "    </tr>\n",
       "    <tr>\n",
       "      <th>23</th>\n",
       "      <td>cE27W9VPgO88Qxe4ol6y_g</td>\n",
       "      <td>owning a driving range inside the city limits ...</td>\n",
       "      <td>Golf</td>\n",
       "    </tr>\n",
       "    <tr>\n",
       "      <th>24</th>\n",
       "      <td>cE27W9VPgO88Qxe4ol6y_g</td>\n",
       "      <td>this place is absolute garbage half of the tee...</td>\n",
       "      <td>Active Life</td>\n",
       "    </tr>\n",
       "    <tr>\n",
       "      <th>25</th>\n",
       "      <td>cE27W9VPgO88Qxe4ol6y_g</td>\n",
       "      <td>this place is absolute garbage half of the tee...</td>\n",
       "      <td>Mini Golf</td>\n",
       "    </tr>\n",
       "    <tr>\n",
       "      <th>26</th>\n",
       "      <td>cE27W9VPgO88Qxe4ol6y_g</td>\n",
       "      <td>this place is absolute garbage half of the tee...</td>\n",
       "      <td>Golf</td>\n",
       "    </tr>\n",
       "    <tr>\n",
       "      <th>27</th>\n",
       "      <td>cE27W9VPgO88Qxe4ol6y_g</td>\n",
       "      <td>before i finally made it over to this range i ...</td>\n",
       "      <td>Active Life</td>\n",
       "    </tr>\n",
       "    <tr>\n",
       "      <th>28</th>\n",
       "      <td>cE27W9VPgO88Qxe4ol6y_g</td>\n",
       "      <td>before i finally made it over to this range i ...</td>\n",
       "      <td>Mini Golf</td>\n",
       "    </tr>\n",
       "    <tr>\n",
       "      <th>...</th>\n",
       "      <td>...</td>\n",
       "      <td>...</td>\n",
       "      <td>...</td>\n",
       "    </tr>\n",
       "    <tr>\n",
       "      <th>95010</th>\n",
       "      <td>BOp3jcpYy31M85H1DLnEEw</td>\n",
       "      <td>i ve been to upstream twice now and had except...</td>\n",
       "      <td>Seafood</td>\n",
       "    </tr>\n",
       "    <tr>\n",
       "      <th>95011</th>\n",
       "      <td>BOp3jcpYy31M85H1DLnEEw</td>\n",
       "      <td>i ve been to upstream twice now and had except...</td>\n",
       "      <td>Sushi Bars</td>\n",
       "    </tr>\n",
       "    <tr>\n",
       "      <th>95012</th>\n",
       "      <td>BOp3jcpYy31M85H1DLnEEw</td>\n",
       "      <td>i ve been to upstream twice now and had except...</td>\n",
       "      <td>Restaurants</td>\n",
       "    </tr>\n",
       "    <tr>\n",
       "      <th>95013</th>\n",
       "      <td>BOp3jcpYy31M85H1DLnEEw</td>\n",
       "      <td>i was amazed on my first visit to upstream i e...</td>\n",
       "      <td>Seafood</td>\n",
       "    </tr>\n",
       "    <tr>\n",
       "      <th>95014</th>\n",
       "      <td>BOp3jcpYy31M85H1DLnEEw</td>\n",
       "      <td>i was amazed on my first visit to upstream i e...</td>\n",
       "      <td>Sushi Bars</td>\n",
       "    </tr>\n",
       "    <tr>\n",
       "      <th>95015</th>\n",
       "      <td>BOp3jcpYy31M85H1DLnEEw</td>\n",
       "      <td>i was amazed on my first visit to upstream i e...</td>\n",
       "      <td>Restaurants</td>\n",
       "    </tr>\n",
       "    <tr>\n",
       "      <th>95016</th>\n",
       "      <td>BOp3jcpYy31M85H1DLnEEw</td>\n",
       "      <td>disappointed every time i ve gone won t be try...</td>\n",
       "      <td>Seafood</td>\n",
       "    </tr>\n",
       "    <tr>\n",
       "      <th>95017</th>\n",
       "      <td>BOp3jcpYy31M85H1DLnEEw</td>\n",
       "      <td>disappointed every time i ve gone won t be try...</td>\n",
       "      <td>Sushi Bars</td>\n",
       "    </tr>\n",
       "    <tr>\n",
       "      <th>95018</th>\n",
       "      <td>BOp3jcpYy31M85H1DLnEEw</td>\n",
       "      <td>disappointed every time i ve gone won t be try...</td>\n",
       "      <td>Restaurants</td>\n",
       "    </tr>\n",
       "    <tr>\n",
       "      <th>95019</th>\n",
       "      <td>BOp3jcpYy31M85H1DLnEEw</td>\n",
       "      <td>upstream is conveniently located in phillips p...</td>\n",
       "      <td>Seafood</td>\n",
       "    </tr>\n",
       "    <tr>\n",
       "      <th>95020</th>\n",
       "      <td>BOp3jcpYy31M85H1DLnEEw</td>\n",
       "      <td>upstream is conveniently located in phillips p...</td>\n",
       "      <td>Sushi Bars</td>\n",
       "    </tr>\n",
       "    <tr>\n",
       "      <th>95021</th>\n",
       "      <td>BOp3jcpYy31M85H1DLnEEw</td>\n",
       "      <td>upstream is conveniently located in phillips p...</td>\n",
       "      <td>Restaurants</td>\n",
       "    </tr>\n",
       "    <tr>\n",
       "      <th>95022</th>\n",
       "      <td>BOp3jcpYy31M85H1DLnEEw</td>\n",
       "      <td>i went here for lunch time restaurant feel rom...</td>\n",
       "      <td>Seafood</td>\n",
       "    </tr>\n",
       "    <tr>\n",
       "      <th>95023</th>\n",
       "      <td>BOp3jcpYy31M85H1DLnEEw</td>\n",
       "      <td>i went here for lunch time restaurant feel rom...</td>\n",
       "      <td>Sushi Bars</td>\n",
       "    </tr>\n",
       "    <tr>\n",
       "      <th>95024</th>\n",
       "      <td>BOp3jcpYy31M85H1DLnEEw</td>\n",
       "      <td>i went here for lunch time restaurant feel rom...</td>\n",
       "      <td>Restaurants</td>\n",
       "    </tr>\n",
       "    <tr>\n",
       "      <th>95025</th>\n",
       "      <td>BOp3jcpYy31M85H1DLnEEw</td>\n",
       "      <td>while in charlotte for business we ventured to...</td>\n",
       "      <td>Seafood</td>\n",
       "    </tr>\n",
       "    <tr>\n",
       "      <th>95026</th>\n",
       "      <td>BOp3jcpYy31M85H1DLnEEw</td>\n",
       "      <td>while in charlotte for business we ventured to...</td>\n",
       "      <td>Sushi Bars</td>\n",
       "    </tr>\n",
       "    <tr>\n",
       "      <th>95027</th>\n",
       "      <td>BOp3jcpYy31M85H1DLnEEw</td>\n",
       "      <td>while in charlotte for business we ventured to...</td>\n",
       "      <td>Restaurants</td>\n",
       "    </tr>\n",
       "    <tr>\n",
       "      <th>95028</th>\n",
       "      <td>BOp3jcpYy31M85H1DLnEEw</td>\n",
       "      <td>i brought my partner to upstream for his first...</td>\n",
       "      <td>Seafood</td>\n",
       "    </tr>\n",
       "    <tr>\n",
       "      <th>95029</th>\n",
       "      <td>BOp3jcpYy31M85H1DLnEEw</td>\n",
       "      <td>i brought my partner to upstream for his first...</td>\n",
       "      <td>Sushi Bars</td>\n",
       "    </tr>\n",
       "    <tr>\n",
       "      <th>95030</th>\n",
       "      <td>BOp3jcpYy31M85H1DLnEEw</td>\n",
       "      <td>i brought my partner to upstream for his first...</td>\n",
       "      <td>Restaurants</td>\n",
       "    </tr>\n",
       "    <tr>\n",
       "      <th>95031</th>\n",
       "      <td>BOp3jcpYy31M85H1DLnEEw</td>\n",
       "      <td>i am a big fan of this place it was home away ...</td>\n",
       "      <td>Seafood</td>\n",
       "    </tr>\n",
       "    <tr>\n",
       "      <th>95032</th>\n",
       "      <td>BOp3jcpYy31M85H1DLnEEw</td>\n",
       "      <td>i am a big fan of this place it was home away ...</td>\n",
       "      <td>Sushi Bars</td>\n",
       "    </tr>\n",
       "    <tr>\n",
       "      <th>95033</th>\n",
       "      <td>BOp3jcpYy31M85H1DLnEEw</td>\n",
       "      <td>i am a big fan of this place it was home away ...</td>\n",
       "      <td>Restaurants</td>\n",
       "    </tr>\n",
       "    <tr>\n",
       "      <th>95034</th>\n",
       "      <td>BOp3jcpYy31M85H1DLnEEw</td>\n",
       "      <td>came here for restaurant week last july when i...</td>\n",
       "      <td>Seafood</td>\n",
       "    </tr>\n",
       "    <tr>\n",
       "      <th>95035</th>\n",
       "      <td>BOp3jcpYy31M85H1DLnEEw</td>\n",
       "      <td>came here for restaurant week last july when i...</td>\n",
       "      <td>Sushi Bars</td>\n",
       "    </tr>\n",
       "    <tr>\n",
       "      <th>95036</th>\n",
       "      <td>BOp3jcpYy31M85H1DLnEEw</td>\n",
       "      <td>came here for restaurant week last july when i...</td>\n",
       "      <td>Restaurants</td>\n",
       "    </tr>\n",
       "    <tr>\n",
       "      <th>95037</th>\n",
       "      <td>BOp3jcpYy31M85H1DLnEEw</td>\n",
       "      <td>go on half priced bottle night i went one nigh...</td>\n",
       "      <td>Seafood</td>\n",
       "    </tr>\n",
       "    <tr>\n",
       "      <th>95038</th>\n",
       "      <td>BOp3jcpYy31M85H1DLnEEw</td>\n",
       "      <td>go on half priced bottle night i went one nigh...</td>\n",
       "      <td>Sushi Bars</td>\n",
       "    </tr>\n",
       "    <tr>\n",
       "      <th>95039</th>\n",
       "      <td>BOp3jcpYy31M85H1DLnEEw</td>\n",
       "      <td>go on half priced bottle night i went one nigh...</td>\n",
       "      <td>Restaurants</td>\n",
       "    </tr>\n",
       "  </tbody>\n",
       "</table>\n",
       "<p>95041 rows × 3 columns</p>\n",
       "</div>"
      ],
      "text/plain": [
       "                   business_id  \\\n",
       "-1      5UmKMjUEUNdYWqANhGckJw   \n",
       " 0      5UmKMjUEUNdYWqANhGckJw   \n",
       " 1      5UmKMjUEUNdYWqANhGckJw   \n",
       " 2      5UmKMjUEUNdYWqANhGckJw   \n",
       " 3      5UmKMjUEUNdYWqANhGckJw   \n",
       " 4      5UmKMjUEUNdYWqANhGckJw   \n",
       " 5      5UmKMjUEUNdYWqANhGckJw   \n",
       " 6      5UmKMjUEUNdYWqANhGckJw   \n",
       " 7      5UmKMjUEUNdYWqANhGckJw   \n",
       " 8      5UmKMjUEUNdYWqANhGckJw   \n",
       " 9      5UmKMjUEUNdYWqANhGckJw   \n",
       " 10     5UmKMjUEUNdYWqANhGckJw   \n",
       " 11     5UmKMjUEUNdYWqANhGckJw   \n",
       " 12     5UmKMjUEUNdYWqANhGckJw   \n",
       " 13     UsFtqoBl7naz8AVUBZMjQQ   \n",
       " 14     UsFtqoBl7naz8AVUBZMjQQ   \n",
       " 15     UsFtqoBl7naz8AVUBZMjQQ   \n",
       " 16     UsFtqoBl7naz8AVUBZMjQQ   \n",
       " 17     UsFtqoBl7naz8AVUBZMjQQ   \n",
       " 18     cE27W9VPgO88Qxe4ol6y_g   \n",
       " 19     cE27W9VPgO88Qxe4ol6y_g   \n",
       " 20     cE27W9VPgO88Qxe4ol6y_g   \n",
       " 21     cE27W9VPgO88Qxe4ol6y_g   \n",
       " 22     cE27W9VPgO88Qxe4ol6y_g   \n",
       " 23     cE27W9VPgO88Qxe4ol6y_g   \n",
       " 24     cE27W9VPgO88Qxe4ol6y_g   \n",
       " 25     cE27W9VPgO88Qxe4ol6y_g   \n",
       " 26     cE27W9VPgO88Qxe4ol6y_g   \n",
       " 27     cE27W9VPgO88Qxe4ol6y_g   \n",
       " 28     cE27W9VPgO88Qxe4ol6y_g   \n",
       "...                        ...   \n",
       " 95010  BOp3jcpYy31M85H1DLnEEw   \n",
       " 95011  BOp3jcpYy31M85H1DLnEEw   \n",
       " 95012  BOp3jcpYy31M85H1DLnEEw   \n",
       " 95013  BOp3jcpYy31M85H1DLnEEw   \n",
       " 95014  BOp3jcpYy31M85H1DLnEEw   \n",
       " 95015  BOp3jcpYy31M85H1DLnEEw   \n",
       " 95016  BOp3jcpYy31M85H1DLnEEw   \n",
       " 95017  BOp3jcpYy31M85H1DLnEEw   \n",
       " 95018  BOp3jcpYy31M85H1DLnEEw   \n",
       " 95019  BOp3jcpYy31M85H1DLnEEw   \n",
       " 95020  BOp3jcpYy31M85H1DLnEEw   \n",
       " 95021  BOp3jcpYy31M85H1DLnEEw   \n",
       " 95022  BOp3jcpYy31M85H1DLnEEw   \n",
       " 95023  BOp3jcpYy31M85H1DLnEEw   \n",
       " 95024  BOp3jcpYy31M85H1DLnEEw   \n",
       " 95025  BOp3jcpYy31M85H1DLnEEw   \n",
       " 95026  BOp3jcpYy31M85H1DLnEEw   \n",
       " 95027  BOp3jcpYy31M85H1DLnEEw   \n",
       " 95028  BOp3jcpYy31M85H1DLnEEw   \n",
       " 95029  BOp3jcpYy31M85H1DLnEEw   \n",
       " 95030  BOp3jcpYy31M85H1DLnEEw   \n",
       " 95031  BOp3jcpYy31M85H1DLnEEw   \n",
       " 95032  BOp3jcpYy31M85H1DLnEEw   \n",
       " 95033  BOp3jcpYy31M85H1DLnEEw   \n",
       " 95034  BOp3jcpYy31M85H1DLnEEw   \n",
       " 95035  BOp3jcpYy31M85H1DLnEEw   \n",
       " 95036  BOp3jcpYy31M85H1DLnEEw   \n",
       " 95037  BOp3jcpYy31M85H1DLnEEw   \n",
       " 95038  BOp3jcpYy31M85H1DLnEEw   \n",
       " 95039  BOp3jcpYy31M85H1DLnEEw   \n",
       "\n",
       "                                                   review   categories  \n",
       "-1      mr hoagie is an institution walking in it does...    Fast Food  \n",
       " 0      mr hoagie is an institution walking in it does...  Restaurants  \n",
       " 1      excellent food superb customer service i miss ...    Fast Food  \n",
       " 2      excellent food superb customer service i miss ...  Restaurants  \n",
       " 3      yes this place is a little out dated and not o...    Fast Food  \n",
       " 4      yes this place is a little out dated and not o...  Restaurants  \n",
       " 5      pros italian hoagie was delicious friendly cou...    Fast Food  \n",
       " 6      pros italian hoagie was delicious friendly cou...  Restaurants  \n",
       " 7      first the only reason this place could possibl...    Fast Food  \n",
       " 8      first the only reason this place could possibl...  Restaurants  \n",
       " 9      normally i do not do reviews of an establishme...    Fast Food  \n",
       " 10     normally i do not do reviews of an establishme...  Restaurants  \n",
       " 11     i like this place a lot it s a good toasted ho...    Fast Food  \n",
       " 12     i like this place a lot it s a good toasted ho...  Restaurants  \n",
       " 13     all the food is great here but the best thing ...    Nightlife  \n",
       " 14     we checked this place out this past monday for...    Nightlife  \n",
       " 15     wing sauce is like water pretty much a lot of ...    Nightlife  \n",
       " 16     cold cheap beer good bar food good service loo...    Nightlife  \n",
       " 17     possibly the most overhyped establishment in a...    Nightlife  \n",
       " 18     decent range somewhat close to the city the ma...  Active Life  \n",
       " 19     decent range somewhat close to the city the ma...    Mini Golf  \n",
       " 20     decent range somewhat close to the city the ma...         Golf  \n",
       " 21     owning a driving range inside the city limits ...  Active Life  \n",
       " 22     owning a driving range inside the city limits ...    Mini Golf  \n",
       " 23     owning a driving range inside the city limits ...         Golf  \n",
       " 24     this place is absolute garbage half of the tee...  Active Life  \n",
       " 25     this place is absolute garbage half of the tee...    Mini Golf  \n",
       " 26     this place is absolute garbage half of the tee...         Golf  \n",
       " 27     before i finally made it over to this range i ...  Active Life  \n",
       " 28     before i finally made it over to this range i ...    Mini Golf  \n",
       "...                                                   ...          ...  \n",
       " 95010  i ve been to upstream twice now and had except...      Seafood  \n",
       " 95011  i ve been to upstream twice now and had except...   Sushi Bars  \n",
       " 95012  i ve been to upstream twice now and had except...  Restaurants  \n",
       " 95013  i was amazed on my first visit to upstream i e...      Seafood  \n",
       " 95014  i was amazed on my first visit to upstream i e...   Sushi Bars  \n",
       " 95015  i was amazed on my first visit to upstream i e...  Restaurants  \n",
       " 95016  disappointed every time i ve gone won t be try...      Seafood  \n",
       " 95017  disappointed every time i ve gone won t be try...   Sushi Bars  \n",
       " 95018  disappointed every time i ve gone won t be try...  Restaurants  \n",
       " 95019  upstream is conveniently located in phillips p...      Seafood  \n",
       " 95020  upstream is conveniently located in phillips p...   Sushi Bars  \n",
       " 95021  upstream is conveniently located in phillips p...  Restaurants  \n",
       " 95022  i went here for lunch time restaurant feel rom...      Seafood  \n",
       " 95023  i went here for lunch time restaurant feel rom...   Sushi Bars  \n",
       " 95024  i went here for lunch time restaurant feel rom...  Restaurants  \n",
       " 95025  while in charlotte for business we ventured to...      Seafood  \n",
       " 95026  while in charlotte for business we ventured to...   Sushi Bars  \n",
       " 95027  while in charlotte for business we ventured to...  Restaurants  \n",
       " 95028  i brought my partner to upstream for his first...      Seafood  \n",
       " 95029  i brought my partner to upstream for his first...   Sushi Bars  \n",
       " 95030  i brought my partner to upstream for his first...  Restaurants  \n",
       " 95031  i am a big fan of this place it was home away ...      Seafood  \n",
       " 95032  i am a big fan of this place it was home away ...   Sushi Bars  \n",
       " 95033  i am a big fan of this place it was home away ...  Restaurants  \n",
       " 95034  came here for restaurant week last july when i...      Seafood  \n",
       " 95035  came here for restaurant week last july when i...   Sushi Bars  \n",
       " 95036  came here for restaurant week last july when i...  Restaurants  \n",
       " 95037  go on half priced bottle night i went one nigh...      Seafood  \n",
       " 95038  go on half priced bottle night i went one nigh...   Sushi Bars  \n",
       " 95039  go on half priced bottle night i went one nigh...  Restaurants  \n",
       "\n",
       "[95041 rows x 3 columns]"
      ]
     },
     "execution_count": 3,
     "metadata": {},
     "output_type": "execute_result"
    }
   ],
   "source": [
    "dataset = replicateClasses(review)\n",
    "dataset.head()"
   ]
  },
  {
   "cell_type": "code",
   "execution_count": 4,
   "metadata": {
    "collapsed": false
   },
   "outputs": [
    {
     "data": {
      "text/plain": [
       "95041"
      ]
     },
     "execution_count": 4,
     "metadata": {},
     "output_type": "execute_result"
    }
   ],
   "source": [
    "len(dataset)"
   ]
  },
  {
   "cell_type": "code",
   "execution_count": 5,
   "metadata": {
    "collapsed": true
   },
   "outputs": [],
   "source": [
    "dataset.to_pickle('final.pkl')"
   ]
  },
  {
   "cell_type": "code",
   "execution_count": 1,
   "metadata": {
    "collapsed": true
   },
   "outputs": [],
   "source": [
    "# -*- coding: utf-8 -*-\n",
    "\"\"\"\n",
    "Created on Sat Nov  5 13:09:04 2016\n",
    "\n",
    "@author: Vipul Munot\n",
    "\"\"\"\n",
    "import re\n",
    "import warnings\n",
    "import pandas as pd\n",
    "from bs4 import BeautifulSoup\n",
    "import mongo\n",
    "warnings.filterwarnings(\"ignore\")"
   ]
  },
  {
   "cell_type": "code",
   "execution_count": 2,
   "metadata": {
    "collapsed": true
   },
   "outputs": [],
   "source": [
    "def convert_words( raw_review ):\n",
    "    review_text = BeautifulSoup(raw_review,'lxml').get_text() \n",
    "    letters_only = re.sub(\"[^a-zA-Z]\", \" \", review_text) \n",
    "    words = letters_only.lower().split()                             \n",
    "    return( \" \".join( words )) "
   ]
  },
  {
   "cell_type": "code",
   "execution_count": 3,
   "metadata": {
    "collapsed": true
   },
   "outputs": [],
   "source": [
    "business =  pd.DataFrame(list(mongo.mongo_business))\n",
    "business = business[['business_id','categories']]\n",
    "tipData =  pd.DataFrame(list(mongo.mongo_tip))\n",
    "tipData = tipData[['business_id','text']]\n",
    "tipData.columns = ['business_id','tip']\n",
    "tipData.loc[:,'tip'] = tipData['tip'].map(convert_words)"
   ]
  },
  {
   "cell_type": "code",
   "execution_count": 4,
   "metadata": {
    "collapsed": true
   },
   "outputs": [],
   "source": [
    "tip = pd.merge(tipData, business, on='business_id')"
   ]
  },
  {
   "cell_type": "code",
   "execution_count": 5,
   "metadata": {
    "collapsed": true
   },
   "outputs": [],
   "source": [
    "reviewData =  pd.DataFrame(list(mongo.mongo_review))\n",
    "reviewData = reviewData[['business_id','text']]\n",
    "reviewData.columns = ['business_id','review']\n",
    "reviewData.loc[:,'tip'] = reviewData['review'].map(convert_words)"
   ]
  },
  {
   "cell_type": "code",
   "execution_count": 6,
   "metadata": {
    "collapsed": true
   },
   "outputs": [],
   "source": [
    "review = pd.merge(reviewData, business, on='business_id')"
   ]
  },
  {
   "cell_type": "code",
   "execution_count": 7,
   "metadata": {
    "collapsed": false
   },
   "outputs": [
    {
     "data": {
      "text/html": [
       "<div>\n",
       "<table border=\"1\" class=\"dataframe\">\n",
       "  <thead>\n",
       "    <tr style=\"text-align: right;\">\n",
       "      <th></th>\n",
       "      <th>business_id</th>\n",
       "      <th>review</th>\n",
       "      <th>tip</th>\n",
       "      <th>categories</th>\n",
       "    </tr>\n",
       "  </thead>\n",
       "  <tbody>\n",
       "    <tr>\n",
       "      <th>0</th>\n",
       "      <td>5UmKMjUEUNdYWqANhGckJw</td>\n",
       "      <td>Mr Hoagie is an institution. Walking in, it do...</td>\n",
       "      <td>mr hoagie is an institution walking in it does...</td>\n",
       "      <td>[Fast Food, Restaurants]</td>\n",
       "    </tr>\n",
       "    <tr>\n",
       "      <th>1</th>\n",
       "      <td>5UmKMjUEUNdYWqANhGckJw</td>\n",
       "      <td>Excellent food. Superb customer service. I mis...</td>\n",
       "      <td>excellent food superb customer service i miss ...</td>\n",
       "      <td>[Fast Food, Restaurants]</td>\n",
       "    </tr>\n",
       "    <tr>\n",
       "      <th>2</th>\n",
       "      <td>5UmKMjUEUNdYWqANhGckJw</td>\n",
       "      <td>Yes this place is a little out dated and not o...</td>\n",
       "      <td>yes this place is a little out dated and not o...</td>\n",
       "      <td>[Fast Food, Restaurants]</td>\n",
       "    </tr>\n",
       "    <tr>\n",
       "      <th>3</th>\n",
       "      <td>5UmKMjUEUNdYWqANhGckJw</td>\n",
       "      <td>PROS: Italian hoagie was delicious.  Friendly ...</td>\n",
       "      <td>pros italian hoagie was delicious friendly cou...</td>\n",
       "      <td>[Fast Food, Restaurants]</td>\n",
       "    </tr>\n",
       "    <tr>\n",
       "      <th>4</th>\n",
       "      <td>5UmKMjUEUNdYWqANhGckJw</td>\n",
       "      <td>First the only reason this place could possibl...</td>\n",
       "      <td>first the only reason this place could possibl...</td>\n",
       "      <td>[Fast Food, Restaurants]</td>\n",
       "    </tr>\n",
       "  </tbody>\n",
       "</table>\n",
       "</div>"
      ],
      "text/plain": [
       "              business_id                                             review  \\\n",
       "0  5UmKMjUEUNdYWqANhGckJw  Mr Hoagie is an institution. Walking in, it do...   \n",
       "1  5UmKMjUEUNdYWqANhGckJw  Excellent food. Superb customer service. I mis...   \n",
       "2  5UmKMjUEUNdYWqANhGckJw  Yes this place is a little out dated and not o...   \n",
       "3  5UmKMjUEUNdYWqANhGckJw  PROS: Italian hoagie was delicious.  Friendly ...   \n",
       "4  5UmKMjUEUNdYWqANhGckJw  First the only reason this place could possibl...   \n",
       "\n",
       "                                                 tip                categories  \n",
       "0  mr hoagie is an institution walking in it does...  [Fast Food, Restaurants]  \n",
       "1  excellent food superb customer service i miss ...  [Fast Food, Restaurants]  \n",
       "2  yes this place is a little out dated and not o...  [Fast Food, Restaurants]  \n",
       "3  pros italian hoagie was delicious friendly cou...  [Fast Food, Restaurants]  \n",
       "4  first the only reason this place could possibl...  [Fast Food, Restaurants]  "
      ]
     },
     "execution_count": 7,
     "metadata": {},
     "output_type": "execute_result"
    }
   ],
   "source": [
    "review.head()"
   ]
  },
  {
   "cell_type": "code",
   "execution_count": 8,
   "metadata": {
    "collapsed": false
   },
   "outputs": [
    {
     "data": {
      "text/html": [
       "<div>\n",
       "<table border=\"1\" class=\"dataframe\">\n",
       "  <thead>\n",
       "    <tr style=\"text-align: right;\">\n",
       "      <th></th>\n",
       "      <th>business_id</th>\n",
       "      <th>tip</th>\n",
       "      <th>categories</th>\n",
       "    </tr>\n",
       "  </thead>\n",
       "  <tbody>\n",
       "    <tr>\n",
       "      <th>0</th>\n",
       "      <td>5UmKMjUEUNdYWqANhGckJw</td>\n",
       "      <td>pizza is garbage hoagies are excellent</td>\n",
       "      <td>[Fast Food, Restaurants]</td>\n",
       "    </tr>\n",
       "    <tr>\n",
       "      <th>1</th>\n",
       "      <td>cE27W9VPgO88Qxe4ol6y_g</td>\n",
       "      <td>don t waste your time</td>\n",
       "      <td>[Active Life, Mini Golf, Golf]</td>\n",
       "    </tr>\n",
       "    <tr>\n",
       "      <th>2</th>\n",
       "      <td>mVHrayjG3uZ_RLHkLj-AMg</td>\n",
       "      <td>not easy to find be sure to put in directions ...</td>\n",
       "      <td>[Bars, American (New), Nightlife, Lounges, Res...</td>\n",
       "    </tr>\n",
       "    <tr>\n",
       "      <th>3</th>\n",
       "      <td>mVHrayjG3uZ_RLHkLj-AMg</td>\n",
       "      <td>your gps will not allow you to find this place...</td>\n",
       "      <td>[Bars, American (New), Nightlife, Lounges, Res...</td>\n",
       "    </tr>\n",
       "    <tr>\n",
       "      <th>4</th>\n",
       "      <td>KayYbHCt-RkbGcPdGOThNg</td>\n",
       "      <td>great drink specials</td>\n",
       "      <td>[Bars, American (Traditional), Nightlife, Rest...</td>\n",
       "    </tr>\n",
       "  </tbody>\n",
       "</table>\n",
       "</div>"
      ],
      "text/plain": [
       "              business_id                                                tip  \\\n",
       "0  5UmKMjUEUNdYWqANhGckJw             pizza is garbage hoagies are excellent   \n",
       "1  cE27W9VPgO88Qxe4ol6y_g                              don t waste your time   \n",
       "2  mVHrayjG3uZ_RLHkLj-AMg  not easy to find be sure to put in directions ...   \n",
       "3  mVHrayjG3uZ_RLHkLj-AMg  your gps will not allow you to find this place...   \n",
       "4  KayYbHCt-RkbGcPdGOThNg                               great drink specials   \n",
       "\n",
       "                                          categories  \n",
       "0                           [Fast Food, Restaurants]  \n",
       "1                     [Active Life, Mini Golf, Golf]  \n",
       "2  [Bars, American (New), Nightlife, Lounges, Res...  \n",
       "3  [Bars, American (New), Nightlife, Lounges, Res...  \n",
       "4  [Bars, American (Traditional), Nightlife, Rest...  "
      ]
     },
     "execution_count": 8,
     "metadata": {},
     "output_type": "execute_result"
    }
   ],
   "source": [
    "tip.head()"
   ]
  },
  {
   "cell_type": "code",
   "execution_count": null,
   "metadata": {
    "collapsed": true
   },
   "outputs": [],
   "source": []
  }
 ],
 "metadata": {
  "anaconda-cloud": {},
  "kernelspec": {
   "display_name": "Python [default]",
   "language": "python",
   "name": "python3"
  },
  "language_info": {
   "codemirror_mode": {
    "name": "ipython",
    "version": 3
   },
   "file_extension": ".py",
   "mimetype": "text/x-python",
   "name": "python",
   "nbconvert_exporter": "python",
   "pygments_lexer": "ipython3",
   "version": "3.5.2"
  }
 },
 "nbformat": 4,
 "nbformat_minor": 1
}

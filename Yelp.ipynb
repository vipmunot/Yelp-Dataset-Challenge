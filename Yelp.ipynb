{
 "cells": [
  {
   "cell_type": "code",
   "execution_count": 1,
   "metadata": {
    "collapsed": true
   },
   "outputs": [],
   "source": [
    "import re\n",
    "import warnings\n",
    "import pandas as pd\n",
    "from bs4 import BeautifulSoup\n",
    "import mongo\n",
    "warnings.filterwarnings(\"ignore\")"
   ]
  },
  {
   "cell_type": "code",
   "execution_count": 2,
   "metadata": {
    "collapsed": true
   },
   "outputs": [],
   "source": [
    "def convert_words( raw_review ):\n",
    "    review_text = BeautifulSoup(raw_review,'lxml').get_text() \n",
    "    letters_only = re.sub(\"[^a-zA-Z]\", \" \", review_text) \n",
    "    words = letters_only.lower().split()                             \n",
    "    return( \" \".join( words )) "
   ]
  },
  {
   "cell_type": "code",
   "execution_count": 3,
   "metadata": {
    "collapsed": true
   },
   "outputs": [],
   "source": [
    "''' \n",
    "Filtering Categories\n",
    "''' \n",
    "business =  pd.DataFrame(list(mongo.mongo_business))\n",
    "business = business[['business_id','categories']]\n",
    "''' \n",
    "Filtering Tips\n",
    "''' \n",
    "tipData =  pd.DataFrame(list(mongo.mongo_tip))\n",
    "tipData = tipData[['business_id','text']]\n",
    "tipData.columns = ['business_id','tip']\n",
    "tipData.loc[:,'tip'] = tipData['tip'].map(convert_words)"
   ]
  },
  {
   "cell_type": "code",
   "execution_count": null,
   "metadata": {
    "collapsed": true
   },
   "outputs": [],
   "source": [
    "''' \n",
    "Merging Categories and Tips\n",
    "''' \n",
    "tip = pd.merge(tipData, business, on='business_id')\n",
    "tip.columns = ['business_id','tip','categories']"
   ]
  },
  {
   "cell_type": "code",
   "execution_count": null,
   "metadata": {
    "collapsed": true
   },
   "outputs": [],
   "source": [
    "\n",
    "''' \n",
    "Filtering Categories\n",
    "''' \n",
    "reviewData =  pd.DataFrame(list(mongo.mongo_review))\n",
    "reviewData = reviewData[['business_id','text']]\n",
    "reviewData.columns = ['business_id','review']\n",
    "reviewData.loc[:,'tip'] = reviewData['review'].map(convert_words)\n",
    "''' \n",
    "Merging Categories and Reviews\n",
    "''' \n",
    "review = pd.merge(reviewData, business, on='business_id')   "
   ]
  },
  {
   "cell_type": "code",
   "execution_count": null,
   "metadata": {
    "collapsed": true
   },
   "outputs": [],
   "source": [
    "review.head()"
   ]
  },
  {
   "cell_type": "code",
   "execution_count": null,
   "metadata": {
    "collapsed": true
   },
   "outputs": [],
   "source": [
    "tip.head()"
   ]
  },
  {
   "cell_type": "code",
   "execution_count": null,
   "metadata": {
    "collapsed": true
   },
   "outputs": [],
   "source": []
  }
 ],
 "metadata": {
  "anaconda-cloud": {},
  "kernelspec": {
   "display_name": "Python [default]",
   "language": "python",
   "name": "python3"
  },
  "language_info": {
   "codemirror_mode": {
    "name": "ipython",
    "version": 3
   },
   "file_extension": ".py",
   "mimetype": "text/x-python",
   "name": "python",
   "nbconvert_exporter": "python",
   "pygments_lexer": "ipython3",
   "version": "3.5.2"
  }
 },
 "nbformat": 4,
 "nbformat_minor": 1
}

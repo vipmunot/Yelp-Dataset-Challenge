{
 "cells": [
  {
   "cell_type": "code",
   "execution_count": 1,
   "metadata": {
    "collapsed": true
   },
   "outputs": [],
   "source": [
    "# -*- coding: utf-8 -*-\n",
    "\"\"\"\n",
    "Created on Sat Nov  5 13:09:04 2016\n",
    "\n",
    "@author: Vipul Munot\n",
    "\"\"\"\n",
    "import re\n",
    "import warnings\n",
    "import pandas as pd\n",
    "from bs4 import BeautifulSoup\n",
    "import mongo\n",
    "warnings.filterwarnings(\"ignore\")"
   ]
  },
  {
   "cell_type": "code",
   "execution_count": 2,
   "metadata": {
    "collapsed": true
   },
   "outputs": [],
   "source": [
    "def convert_words( raw_review ):\n",
    "    review_text = BeautifulSoup(raw_review,'lxml').get_text() \n",
    "    letters_only = re.sub(\"[^a-zA-Z]\", \" \", review_text) \n",
    "    words = letters_only.lower().split()                             \n",
    "    return( \" \".join( words )) "
   ]
  },
  {
   "cell_type": "code",
   "execution_count": 3,
   "metadata": {
    "collapsed": true
   },
   "outputs": [],
   "source": [
    "business =  pd.DataFrame(list(mongo.mongo_business))\n",
    "business = business[['business_id','categories']]\n",
    "tipData =  pd.DataFrame(list(mongo.mongo_tip))\n",
    "tipData = tipData[['business_id','text']]\n",
    "tipData.columns = ['business_id','tip']\n",
    "tipData.loc[:,'tip'] = tipData['tip'].map(convert_words)"
   ]
  },
  {
   "cell_type": "code",
   "execution_count": 4,
   "metadata": {
    "collapsed": true
   },
   "outputs": [],
   "source": [
    "tip = pd.merge(tipData, business, on='business_id')"
   ]
  },
  {
   "cell_type": "code",
   "execution_count": 5,
   "metadata": {
    "collapsed": true
   },
   "outputs": [],
   "source": [
    "reviewData =  pd.DataFrame(list(mongo.mongo_review))\n",
    "reviewData = reviewData[['business_id','text']]\n",
    "reviewData.columns = ['business_id','review']\n",
    "reviewData.loc[:,'tip'] = reviewData['review'].map(convert_words)"
   ]
  },
  {
   "cell_type": "code",
   "execution_count": 6,
   "metadata": {
    "collapsed": true
   },
   "outputs": [],
   "source": [
    "review = pd.merge(reviewData, business, on='business_id')"
   ]
  },
  {
   "cell_type": "code",
   "execution_count": 7,
   "metadata": {
    "collapsed": false
   },
   "outputs": [
    {
     "data": {
      "text/html": [
       "<div>\n",
       "<table border=\"1\" class=\"dataframe\">\n",
       "  <thead>\n",
       "    <tr style=\"text-align: right;\">\n",
       "      <th></th>\n",
       "      <th>business_id</th>\n",
       "      <th>review</th>\n",
       "      <th>tip</th>\n",
       "      <th>categories</th>\n",
       "    </tr>\n",
       "  </thead>\n",
       "  <tbody>\n",
       "    <tr>\n",
       "      <th>0</th>\n",
       "      <td>5UmKMjUEUNdYWqANhGckJw</td>\n",
       "      <td>Mr Hoagie is an institution. Walking in, it do...</td>\n",
       "      <td>mr hoagie is an institution walking in it does...</td>\n",
       "      <td>[Fast Food, Restaurants]</td>\n",
       "    </tr>\n",
       "    <tr>\n",
       "      <th>1</th>\n",
       "      <td>5UmKMjUEUNdYWqANhGckJw</td>\n",
       "      <td>Excellent food. Superb customer service. I mis...</td>\n",
       "      <td>excellent food superb customer service i miss ...</td>\n",
       "      <td>[Fast Food, Restaurants]</td>\n",
       "    </tr>\n",
       "    <tr>\n",
       "      <th>2</th>\n",
       "      <td>5UmKMjUEUNdYWqANhGckJw</td>\n",
       "      <td>Yes this place is a little out dated and not o...</td>\n",
       "      <td>yes this place is a little out dated and not o...</td>\n",
       "      <td>[Fast Food, Restaurants]</td>\n",
       "    </tr>\n",
       "    <tr>\n",
       "      <th>3</th>\n",
       "      <td>5UmKMjUEUNdYWqANhGckJw</td>\n",
       "      <td>PROS: Italian hoagie was delicious.  Friendly ...</td>\n",
       "      <td>pros italian hoagie was delicious friendly cou...</td>\n",
       "      <td>[Fast Food, Restaurants]</td>\n",
       "    </tr>\n",
       "    <tr>\n",
       "      <th>4</th>\n",
       "      <td>5UmKMjUEUNdYWqANhGckJw</td>\n",
       "      <td>First the only reason this place could possibl...</td>\n",
       "      <td>first the only reason this place could possibl...</td>\n",
       "      <td>[Fast Food, Restaurants]</td>\n",
       "    </tr>\n",
       "  </tbody>\n",
       "</table>\n",
       "</div>"
      ],
      "text/plain": [
       "              business_id                                             review  \\\n",
       "0  5UmKMjUEUNdYWqANhGckJw  Mr Hoagie is an institution. Walking in, it do...   \n",
       "1  5UmKMjUEUNdYWqANhGckJw  Excellent food. Superb customer service. I mis...   \n",
       "2  5UmKMjUEUNdYWqANhGckJw  Yes this place is a little out dated and not o...   \n",
       "3  5UmKMjUEUNdYWqANhGckJw  PROS: Italian hoagie was delicious.  Friendly ...   \n",
       "4  5UmKMjUEUNdYWqANhGckJw  First the only reason this place could possibl...   \n",
       "\n",
       "                                                 tip                categories  \n",
       "0  mr hoagie is an institution walking in it does...  [Fast Food, Restaurants]  \n",
       "1  excellent food superb customer service i miss ...  [Fast Food, Restaurants]  \n",
       "2  yes this place is a little out dated and not o...  [Fast Food, Restaurants]  \n",
       "3  pros italian hoagie was delicious friendly cou...  [Fast Food, Restaurants]  \n",
       "4  first the only reason this place could possibl...  [Fast Food, Restaurants]  "
      ]
     },
     "execution_count": 7,
     "metadata": {},
     "output_type": "execute_result"
    }
   ],
   "source": [
    "review.head()"
   ]
  },
  {
   "cell_type": "code",
   "execution_count": 8,
   "metadata": {
    "collapsed": false
   },
   "outputs": [
    {
     "data": {
      "text/html": [
       "<div>\n",
       "<table border=\"1\" class=\"dataframe\">\n",
       "  <thead>\n",
       "    <tr style=\"text-align: right;\">\n",
       "      <th></th>\n",
       "      <th>business_id</th>\n",
       "      <th>tip</th>\n",
       "      <th>categories</th>\n",
       "    </tr>\n",
       "  </thead>\n",
       "  <tbody>\n",
       "    <tr>\n",
       "      <th>0</th>\n",
       "      <td>5UmKMjUEUNdYWqANhGckJw</td>\n",
       "      <td>pizza is garbage hoagies are excellent</td>\n",
       "      <td>[Fast Food, Restaurants]</td>\n",
       "    </tr>\n",
       "    <tr>\n",
       "      <th>1</th>\n",
       "      <td>cE27W9VPgO88Qxe4ol6y_g</td>\n",
       "      <td>don t waste your time</td>\n",
       "      <td>[Active Life, Mini Golf, Golf]</td>\n",
       "    </tr>\n",
       "    <tr>\n",
       "      <th>2</th>\n",
       "      <td>mVHrayjG3uZ_RLHkLj-AMg</td>\n",
       "      <td>not easy to find be sure to put in directions ...</td>\n",
       "      <td>[Bars, American (New), Nightlife, Lounges, Res...</td>\n",
       "    </tr>\n",
       "    <tr>\n",
       "      <th>3</th>\n",
       "      <td>mVHrayjG3uZ_RLHkLj-AMg</td>\n",
       "      <td>your gps will not allow you to find this place...</td>\n",
       "      <td>[Bars, American (New), Nightlife, Lounges, Res...</td>\n",
       "    </tr>\n",
       "    <tr>\n",
       "      <th>4</th>\n",
       "      <td>KayYbHCt-RkbGcPdGOThNg</td>\n",
       "      <td>great drink specials</td>\n",
       "      <td>[Bars, American (Traditional), Nightlife, Rest...</td>\n",
       "    </tr>\n",
       "  </tbody>\n",
       "</table>\n",
       "</div>"
      ],
      "text/plain": [
       "              business_id                                                tip  \\\n",
       "0  5UmKMjUEUNdYWqANhGckJw             pizza is garbage hoagies are excellent   \n",
       "1  cE27W9VPgO88Qxe4ol6y_g                              don t waste your time   \n",
       "2  mVHrayjG3uZ_RLHkLj-AMg  not easy to find be sure to put in directions ...   \n",
       "3  mVHrayjG3uZ_RLHkLj-AMg  your gps will not allow you to find this place...   \n",
       "4  KayYbHCt-RkbGcPdGOThNg                               great drink specials   \n",
       "\n",
       "                                          categories  \n",
       "0                           [Fast Food, Restaurants]  \n",
       "1                     [Active Life, Mini Golf, Golf]  \n",
       "2  [Bars, American (New), Nightlife, Lounges, Res...  \n",
       "3  [Bars, American (New), Nightlife, Lounges, Res...  \n",
       "4  [Bars, American (Traditional), Nightlife, Rest...  "
      ]
     },
     "execution_count": 8,
     "metadata": {},
     "output_type": "execute_result"
    }
   ],
   "source": [
    "tip.head()"
   ]
  },
  {
   "cell_type": "code",
   "execution_count": null,
   "metadata": {
    "collapsed": true
   },
   "outputs": [],
   "source": []
  }
 ],
 "metadata": {
  "anaconda-cloud": {},
  "kernelspec": {
   "display_name": "Python [default]",
   "language": "python",
   "name": "python3"
  },
  "language_info": {
   "codemirror_mode": {
    "name": "ipython",
    "version": 3
   },
   "file_extension": ".py",
   "mimetype": "text/x-python",
   "name": "python",
   "nbconvert_exporter": "python",
   "pygments_lexer": "ipython3",
   "version": "3.5.2"
  }
 },
 "nbformat": 4,
 "nbformat_minor": 1
}
